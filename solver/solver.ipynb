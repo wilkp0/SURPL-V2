{
 "cells": [
  {
   "cell_type": "code",
   "execution_count": 2,
   "metadata": {},
   "outputs": [],
   "source": [
    "from auxFuncs import *"
   ]
  },
  {
   "cell_type": "code",
   "execution_count": 3,
   "metadata": {},
   "outputs": [
    {
     "name": "stdout",
     "output_type": "stream",
     "text": [
      "...ok! Python3 loaded.\n"
     ]
    }
   ],
   "source": [
    "print(\"...ok! Python3 loaded.\")"
   ]
  },
  {
   "cell_type": "markdown",
   "metadata": {},
   "source": [
    "-----\n",
    "-----"
   ]
  },
  {
   "cell_type": "markdown",
   "metadata": {},
   "source": [
    "### SB OPTIMIZATION"
   ]
  },
  {
   "cell_type": "code",
   "execution_count": 128,
   "metadata": {},
   "outputs": [],
   "source": [
    "def calculateSBOptimal(**kwargs):\n",
    "    ################# GLOBAL #################\n",
    "    # load = [3,1,1]\n",
    "    load = kwargs[\"load\"] if \"load\" in kwargs else [3, 1, 1]\n",
    "    timeStep=len(load)\n",
    "    demandCharge = cp.Variable(len(load))\n",
    "    ############ SCALAR VARIABLES ############\n",
    "    demand = cp.Variable(len(load))\n",
    "\n",
    "    ############## CONSTRAINTS ################\n",
    "    constraints = [0 <= demand, \n",
    "                    demand <= max(load)]\n",
    "\n",
    "    ############## CALCULATIONS ###############\n",
    "    deltaPenalty = (load - demand)**2\n",
    "\n",
    "    ################ SOLVER ##################\n",
    "    function = demand**2 + deltaPenalty \n",
    "\n",
    "    objective = cp.Minimize(cp.sum(function))\n",
    "\n",
    "    prob = cp.Problem(objective, constraints)\n",
    "\n",
    "    prob.solve()\n",
    "\n",
    "    print(\"Solution type: \", prob.status)\n",
    "    print(\"-\"*25)\n",
    "    print(\"Minimized value: \", round(prob.value, 3))\n",
    "    print(\"Optimal value: \", [round(i, 3) for i  in demand.value])\n",
    "    print(\"Demand Charge: \", round(max(demand.value), 3))"
   ]
  },
  {
   "cell_type": "code",
   "execution_count": 129,
   "metadata": {},
   "outputs": [
    {
     "name": "stdout",
     "output_type": "stream",
     "text": [
      "Solution type:  optimal\n",
      "-------------------------\n",
      "Minimized value:  5.5\n",
      "Optimal value:  [1.5, 0.5, 0.5]\n",
      "Demand Charge:  1.5\n"
     ]
    }
   ],
   "source": [
    "calculateSBOptimal()"
   ]
  },
  {
   "cell_type": "markdown",
   "metadata": {},
   "source": [
    "-----\n",
    "-----"
   ]
  },
  {
   "cell_type": "markdown",
   "metadata": {},
   "source": [
    "### EV OPTIMIZATION"
   ]
  },
  {
   "cell_type": "code",
   "execution_count": 130,
   "metadata": {},
   "outputs": [],
   "source": [
    "def calculateEVOptimal(**kwargs):\n",
    "\n",
    "    ################# GLOBAL #################\n",
    "    timeStep = kwargs[\"timeStep\"] if \"timeStep\" in kwargs else range(3)\n",
    "    ############ SCALAR VARIABLES ############\n",
    "    load = cp.Variable(len(timeStep))\n",
    "    required = 2\n",
    "\n",
    "    ############## CALCULATIONS ###############\n",
    "    print(required)\n",
    "    ################ SOLVER ##################\n",
    "    # function = required - load \n",
    "    function = required - sum([i for i in load])\n",
    "    \n",
    "    ############## CONSTRAINTS ################\n",
    "    constraints = [0 <= load, \n",
    "                load <= 1,\n",
    "                function >= 0]\n",
    "\n",
    "    objective = cp.Minimize(cp.sum(function))\n",
    "\n",
    "    prob = cp.Problem(objective, constraints)\n",
    "\n",
    "    prob.solve()\n",
    "\n",
    "    print(\"Solution type: \", prob.status)\n",
    "    print(\"-\"*25)\n",
    "    print(\"Minimized value: \", round(prob.value, 3))\n",
    "    print(\"Optimal value: \", [round(i, 3) for i  in load.value])\n",
    "    print(\"Demand Charge: \", round(max(load.value), 3))"
   ]
  },
  {
   "cell_type": "code",
   "execution_count": 131,
   "metadata": {},
   "outputs": [
    {
     "name": "stdout",
     "output_type": "stream",
     "text": [
      "2\n",
      "Solution type:  optimal\n",
      "-------------------------\n",
      "Minimized value:  0.0\n",
      "Optimal value:  [0.667, 0.667, 0.667]\n",
      "Demand Charge:  0.667\n"
     ]
    }
   ],
   "source": [
    "calculateEVOptimal()"
   ]
  }
 ],
 "metadata": {
  "interpreter": {
   "hash": "73c9605cb908a2b9cf675ad581a88b64afe960d5109319571cfd4c2034252f42"
  },
  "kernelspec": {
   "display_name": "Python 3.7.11 64-bit ('agentppo')",
   "language": "python",
   "name": "python3"
  },
  "language_info": {
   "codemirror_mode": {
    "name": "ipython",
    "version": 3
   },
   "file_extension": ".py",
   "mimetype": "text/x-python",
   "name": "python",
   "nbconvert_exporter": "python",
   "pygments_lexer": "ipython3",
   "version": "3.7.11"
  },
  "orig_nbformat": 4
 },
 "nbformat": 4,
 "nbformat_minor": 2
}
